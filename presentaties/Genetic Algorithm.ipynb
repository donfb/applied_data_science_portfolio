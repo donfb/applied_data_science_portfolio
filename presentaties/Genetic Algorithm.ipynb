{
 "cells": [
  {
   "cell_type": "markdown",
   "metadata": {},
   "source": [
    "In this notebook, we will go over how a genetic algorithm works. The only thing we need to write the code is numpy."
   ]
  },
  {
   "cell_type": "code",
   "execution_count": 1,
   "metadata": {},
   "outputs": [],
   "source": [
    "import numpy as np"
   ]
  },
  {
   "cell_type": "markdown",
   "metadata": {},
   "source": [
    "A genetic algorithm works by mutating a population and selecting the best individuals from the population to make a new population. By doing this over and over again, we will have a population with better and better individuals. A population will consist of individuals and an individual will have a number of features. Putting all of these in a single numpy array will make performing computations on them easier. Below, we will create an array with ten individuals with three features each. Make sure the data type of your population is float, as it's important that the features can change by small amounts."
   ]
  },
  {
   "cell_type": "code",
   "execution_count": 2,
   "metadata": {},
   "outputs": [],
   "source": [
    "population = np.array([\n",
    "    [10, 1, 22],\n",
    "    [15, 3, 17],\n",
    "    [12, 4, 36],\n",
    "    [29, 2, 13],\n",
    "    [25, 2, 24],\n",
    "    [13, 1, 25],\n",
    "    [12, 2, 14],\n",
    "    [16, 5, 37],\n",
    "    [27, 7, 18],\n",
    "    [23, 3, 22],\n",
    "], dtype=np.float)"
   ]
  },
  {
   "cell_type": "markdown",
   "metadata": {},
   "source": [
    "Mutations are random changes. For this example, we will allow the features to increase or decrease by at most 20%. Increasing a value by 20% means multiplying it by 1.2 (1+20/100). Decreasing a value by 20% means multiplying it by 0.8 (1-20/100)"
   ]
  },
  {
   "cell_type": "code",
   "execution_count": 3,
   "metadata": {},
   "outputs": [
    {
     "name": "stdout",
     "output_type": "stream",
     "text": [
      "max_mutation: 1.2\n",
      "min_mutation: 0.8\n"
     ]
    }
   ],
   "source": [
    "max_mutation_percentage = 20\n",
    "max_mutation = 1 + (max_mutation_percentage / 100)\n",
    "min_mutation = 1 - (max_mutation_percentage / 100)\n",
    "\n",
    "print('max_mutation:', max_mutation)\n",
    "print('min_mutation:', min_mutation)"
   ]
  },
  {
   "cell_type": "markdown",
   "metadata": {},
   "source": [
    "Now let's create a randomly mutated population. First, we will have to make an array with random values with the same size as our population array. In case you didn't know: putting a * in front of a tuple when sending it as a parameter to a function sends the contents of the tuple to the function seperately instead."
   ]
  },
  {
   "cell_type": "code",
   "execution_count": 4,
   "metadata": {},
   "outputs": [
    {
     "name": "stdout",
     "output_type": "stream",
     "text": [
      "mutation: [[0.79565259 0.41777199 0.9434719 ]\n",
      " [0.91655756 0.98786883 0.98102262]\n",
      " [0.7170526  0.14050483 0.83355297]\n",
      " [0.02251996 0.71714228 0.69615734]\n",
      " [0.49878394 0.45117432 0.46363709]\n",
      " [0.04760195 0.1356599  0.99854152]\n",
      " [0.49640043 0.54291049 0.01288477]\n",
      " [0.26665147 0.40715966 0.36905212]\n",
      " [0.44176959 0.50017638 0.64449605]\n",
      " [0.30140816 0.33812694 0.50056691]]\n"
     ]
    }
   ],
   "source": [
    "mutation = np.random.rand(*population.shape)\n",
    "\n",
    "print('mutation:', mutation)"
   ]
  },
  {
   "cell_type": "markdown",
   "metadata": {},
   "source": [
    "As you can see, the values range from 0 to 1. We want them to range from our min_mutation (0.8) to our max_mutation (1.2)."
   ]
  },
  {
   "cell_type": "code",
   "execution_count": 5,
   "metadata": {},
   "outputs": [
    {
     "name": "stdout",
     "output_type": "stream",
     "text": [
      "mutation: [[1.11826104 0.96710879 1.17738876]\n",
      " [1.16662302 1.19514753 1.19240905]\n",
      " [1.08682104 0.85620193 1.13342119]\n",
      " [0.80900798 1.08685691 1.07846294]\n",
      " [0.99951358 0.98046973 0.98545484]\n",
      " [0.81904078 0.85426396 1.19941661]\n",
      " [0.99856017 1.01716419 0.80515391]\n",
      " [0.90666059 0.96286387 0.94762085]\n",
      " [0.97670784 1.00007055 1.05779842]\n",
      " [0.92056326 0.93525078 1.00022676]]\n"
     ]
    }
   ],
   "source": [
    "mutation = mutation * (max_mutation - min_mutation) + min_mutation\n",
    "\n",
    "print('mutation:', mutation)"
   ]
  },
  {
   "cell_type": "markdown",
   "metadata": {},
   "source": [
    "All that's left is applying the mutation to the population."
   ]
  },
  {
   "cell_type": "code",
   "execution_count": 6,
   "metadata": {},
   "outputs": [
    {
     "name": "stdout",
     "output_type": "stream",
     "text": [
      "population: [[10.  1. 22.]\n",
      " [15.  3. 17.]\n",
      " [12.  4. 36.]\n",
      " [29.  2. 13.]\n",
      " [25.  2. 24.]\n",
      " [13.  1. 25.]\n",
      " [12.  2. 14.]\n",
      " [16.  5. 37.]\n",
      " [27.  7. 18.]\n",
      " [23.  3. 22.]]\n",
      "mutated_population: [[11.18261037  0.96710879 25.90255273]\n",
      " [17.49934536  3.5854426  20.27095379]\n",
      " [13.04185247  3.42480773 40.80316278]\n",
      " [23.46123149  2.17371382 14.02001818]\n",
      " [24.98783938  1.96093946 23.65091607]\n",
      " [10.64753013  0.85426396 29.98541518]\n",
      " [11.98272205  2.03432839 11.27215473]\n",
      " [14.5065694   4.81431933 35.06197136]\n",
      " [26.37111158  7.00049387 19.04037155]\n",
      " [21.17295508  2.80575233 22.00498879]]\n"
     ]
    }
   ],
   "source": [
    "mutated_population = mutation * population\n",
    "\n",
    "print('population:', population)\n",
    "print('mutated_population:', mutated_population)"
   ]
  },
  {
   "cell_type": "markdown",
   "metadata": {},
   "source": [
    "That's great! This will already work and it's the most basic genetic algorithm possible. When you start getting close to the optimal values, you might not want to change all features anymore. Some features might already be optimal and changing them will just mess things up. We will only apply the mutation to **some** of the features to mitigate this. For this example, we will change 50% of all values. We will start with an array with random values with the same size as our population array, just like with the mutations. Then we make a boolean array to randomly select some of the mutations."
   ]
  },
  {
   "cell_type": "code",
   "execution_count": 7,
   "metadata": {},
   "outputs": [
    {
     "name": "stdout",
     "output_type": "stream",
     "text": [
      "[[False  True  True]\n",
      " [False False False]\n",
      " [ True False  True]\n",
      " [ True False  True]\n",
      " [ True  True False]\n",
      " [False  True False]\n",
      " [ True  True False]\n",
      " [ True False False]\n",
      " [ True  True False]\n",
      " [ True False  True]]\n"
     ]
    }
   ],
   "source": [
    "mutation_chance = 0.5 # 50%\n",
    "\n",
    "chance = np.random.rand(*population.shape)\n",
    "\n",
    "mask = chance < mutation_chance\n",
    "\n",
    "print(mask)"
   ]
  },
  {
   "cell_type": "markdown",
   "metadata": {},
   "source": [
    "You can use boolean arrays to index arrays of the same size. Let's make a new population by copying the old one and applying the mutations."
   ]
  },
  {
   "cell_type": "code",
   "execution_count": 8,
   "metadata": {},
   "outputs": [
    {
     "name": "stdout",
     "output_type": "stream",
     "text": [
      "population: [[10.  1. 22.]\n",
      " [15.  3. 17.]\n",
      " [12.  4. 36.]\n",
      " [29.  2. 13.]\n",
      " [25.  2. 24.]\n",
      " [13.  1. 25.]\n",
      " [12.  2. 14.]\n",
      " [16.  5. 37.]\n",
      " [27.  7. 18.]\n",
      " [23.  3. 22.]]\n",
      "new_population: [[10.          0.96710879 25.90255273]\n",
      " [15.          3.         17.        ]\n",
      " [13.04185247  4.         40.80316278]\n",
      " [23.46123149  2.         14.02001818]\n",
      " [24.98783938  1.96093946 24.        ]\n",
      " [13.          0.85426396 25.        ]\n",
      " [11.98272205  2.03432839 14.        ]\n",
      " [14.5065694   5.         37.        ]\n",
      " [26.37111158  7.00049387 18.        ]\n",
      " [21.17295508  3.         22.00498879]]\n"
     ]
    }
   ],
   "source": [
    "new_population = np.copy(population)\n",
    "\n",
    "new_population[mask] = mutated_population[mask]\n",
    "\n",
    "print('population:', population)\n",
    "print('new_population:', new_population)"
   ]
  },
  {
   "cell_type": "markdown",
   "metadata": {},
   "source": [
    "As you can see, only some of the features were mutated. We will now make a function to mutate a population. In the function we don't make a new population. We instead change the population inplace."
   ]
  },
  {
   "cell_type": "code",
   "execution_count": 9,
   "metadata": {},
   "outputs": [],
   "source": [
    "def mutate(population, mutation_chance, max_mutation, min_mutation):\n",
    "    # make an array with values from 0 to 1\n",
    "    chance = np.random.rand(*population.shape)\n",
    "    # create a mask array with the mutation chance\n",
    "    mask = chance < mutation_chance\n",
    "    \n",
    "    # make an array with values from 0 to 1\n",
    "    mutation = np.random.rand(*population.shape)\n",
    "    # scale the array with min and max mutation\n",
    "    mutation = mutation * (max_mutation - min_mutation) + min_mutation\n",
    "    # make a fully mutated population\n",
    "    mutated_population = mutation * population\n",
    "    \n",
    "    # partially apply the mutation to the population\n",
    "    population[mask] = mutated_population[mask]"
   ]
  },
  {
   "cell_type": "markdown",
   "metadata": {},
   "source": [
    "Genetic algorthms are usually used to either minimize a cost or maximize a score. In this case, we will minimize a cost. For this simple example we will make the features fit to the equation feature1 / feature2 = feature3. The cost will be the absolute difference between feature1 divided by feature2 and feature3. In reality you could calculate a cost or score based on how well an individual did in a game or simulation."
   ]
  },
  {
   "cell_type": "code",
   "execution_count": 10,
   "metadata": {},
   "outputs": [
    {
     "name": "stdout",
     "output_type": "stream",
     "text": [
      "[12.         12.         33.          1.5        11.5        12.\n",
      "  8.         33.8        14.14285714 14.33333333]\n"
     ]
    }
   ],
   "source": [
    "def calculate_cost(population):\n",
    "    return np.abs((population[:, 0] / population[:, 1]) - population[:, 2])\n",
    "\n",
    "cost = calculate_cost(population)\n",
    "\n",
    "print(cost)"
   ]
  },
  {
   "cell_type": "markdown",
   "metadata": {},
   "source": [
    "We now have 10 cost values. One for each individual. We now have to select some of the best ones. We will select 3 for now. To select the best we need to sort them on the cost first. In case you didn't know: argsort returns an array with the positions of the sorted elements of an array."
   ]
  },
  {
   "cell_type": "code",
   "execution_count": 11,
   "metadata": {},
   "outputs": [
    {
     "name": "stdout",
     "output_type": "stream",
     "text": [
      "[3 6 4 0 1 5 8 9 2 7]\n"
     ]
    }
   ],
   "source": [
    "print(cost.argsort())"
   ]
  },
  {
   "cell_type": "markdown",
   "metadata": {},
   "source": [
    "You can use an array of integers to index an array and create a new array."
   ]
  },
  {
   "cell_type": "code",
   "execution_count": 12,
   "metadata": {},
   "outputs": [
    {
     "name": "stdout",
     "output_type": "stream",
     "text": [
      "old: [[10.  1. 22.]\n",
      " [15.  3. 17.]\n",
      " [12.  4. 36.]\n",
      " [29.  2. 13.]\n",
      " [25.  2. 24.]\n",
      " [13.  1. 25.]\n",
      " [12.  2. 14.]\n",
      " [16.  5. 37.]\n",
      " [27.  7. 18.]\n",
      " [23.  3. 22.]]\n",
      "new: [[29.  2. 13.]\n",
      " [12.  2. 14.]\n",
      " [25.  2. 24.]\n",
      " [10.  1. 22.]\n",
      " [15.  3. 17.]\n",
      " [13.  1. 25.]\n",
      " [27.  7. 18.]\n",
      " [23.  3. 22.]\n",
      " [12.  4. 36.]\n",
      " [16.  5. 37.]]\n"
     ]
    }
   ],
   "source": [
    "print('old:', population)\n",
    "print('new:', population[cost.argsort()])"
   ]
  },
  {
   "cell_type": "markdown",
   "metadata": {},
   "source": [
    "Now lets get the best ones! Remember to sort the score from large to small ."
   ]
  },
  {
   "cell_type": "code",
   "execution_count": 13,
   "metadata": {},
   "outputs": [
    {
     "name": "stdout",
     "output_type": "stream",
     "text": [
      "[[29.  2. 13.]\n",
      " [12.  2. 14.]\n",
      " [25.  2. 24.]]\n"
     ]
    }
   ],
   "source": [
    "n_to_select = 3\n",
    "\n",
    "population = population[cost.argsort()]\n",
    "best_selected = population[:n_to_select]\n",
    "\n",
    "print(best_selected)"
   ]
  },
  {
   "cell_type": "markdown",
   "metadata": {},
   "source": [
    "Now it's time to make the new generation. While we can just select the best ones and mutate them a bit, we can also combine the best ones to make new ones. This mimicks nature where two plants or animals will make new plants or animals together. In this simple example this won't help at all. However, for more complex situations like video games and simulations it can help. If one individual makes **one** breakthrough and another individual makes a **different** one, their child will have **both** breakthroughs. We first randomly select the parents."
   ]
  },
  {
   "cell_type": "code",
   "execution_count": 14,
   "metadata": {},
   "outputs": [
    {
     "name": "stdout",
     "output_type": "stream",
     "text": [
      "[12.  2. 14.]\n",
      "[25.  2. 24.]\n"
     ]
    }
   ],
   "source": [
    "population_size, n_features = population.shape\n",
    "n_parents = best_selected.shape[0]\n",
    "\n",
    "parent1 = best_selected[np.random.randint(n_parents)]\n",
    "parent2 = best_selected[np.random.randint(n_parents)]\n",
    "\n",
    "print(parent1)\n",
    "print(parent2)"
   ]
  },
  {
   "cell_type": "markdown",
   "metadata": {},
   "source": [
    "We then make a child by randomly taking features from one parent or the other."
   ]
  },
  {
   "cell_type": "code",
   "execution_count": 15,
   "metadata": {},
   "outputs": [
    {
     "name": "stdout",
     "output_type": "stream",
     "text": [
      "[False  True False]\n",
      "[12.  2. 14.]\n"
     ]
    }
   ],
   "source": [
    "child = np.copy(parent1)\n",
    "mask = np.random.rand(n_features) > 0.5\n",
    "child[mask] = parent2[mask]\n",
    "\n",
    "print(mask)\n",
    "print(child)"
   ]
  },
  {
   "cell_type": "markdown",
   "metadata": {},
   "source": [
    "Now let's combine some of these pieces of code to make a whole new generation."
   ]
  },
  {
   "cell_type": "code",
   "execution_count": 16,
   "metadata": {},
   "outputs": [
    {
     "name": "stdout",
     "output_type": "stream",
     "text": [
      "[[27.  7. 17.]\n",
      " [10.  3. 17.]\n",
      " [10.  1. 22.]\n",
      " [15.  3. 18.]\n",
      " [15.  1. 17.]\n",
      " [10.  1. 22.]\n",
      " [15.  3. 17.]\n",
      " [27.  7. 17.]\n",
      " [27.  1. 22.]\n",
      " [15.  3. 17.]]\n"
     ]
    }
   ],
   "source": [
    "n_to_select = 3\n",
    "\n",
    "def make_new_generation(n_to_select, population, cost):\n",
    "    # sort population by cost (low to high)\n",
    "    population = population[cost.argsort()]\n",
    "    # select the best\n",
    "    best_selected = population[:n_to_select]\n",
    "    # get some required values\n",
    "    population_size, n_features = population.shape\n",
    "    n_parents = best_selected.shape[0]\n",
    "    # make new generation\n",
    "    new_population = np.zeros_like(population)\n",
    "    # fill the new generation\n",
    "    for i in range(population_size):\n",
    "        # select parents\n",
    "        parent1 = best_selected[np.random.randint(n_parents)]\n",
    "        parent2 = best_selected[np.random.randint(n_parents)]\n",
    "        # combine to make child\n",
    "        child = np.copy(parent1)\n",
    "        mask = np.random.rand(n_features) > 0.5\n",
    "        child[mask] = parent2[mask]\n",
    "        # assign child to new population\n",
    "        new_population[i] = child\n",
    "    return new_population\n",
    "\n",
    "new_population = make_new_generation(n_to_select, population, cost)\n",
    "\n",
    "print(new_population)"
   ]
  },
  {
   "cell_type": "markdown",
   "metadata": {},
   "source": [
    "Now we will initialize some variables for the actual training. We define minimum and maximum values and then generate our starting population randomly. Then we train it and select the best."
   ]
  },
  {
   "cell_type": "code",
   "execution_count": 17,
   "metadata": {
    "scrolled": true
   },
   "outputs": [
    {
     "name": "stdout",
     "output_type": "stream",
     "text": [
      "generation: 0 average cost: 60.68371842904447\n",
      "generation: 1 average cost: 14.330409641193146\n",
      "generation: 2 average cost: 7.4030757047147855\n",
      "generation: 3 average cost: 3.8884995839388075\n",
      "generation: 4 average cost: 3.557438947217258\n",
      "generation: 5 average cost: 3.055642580790432\n",
      "generation: 6 average cost: 1.3854338385452032\n",
      "generation: 7 average cost: 1.3972543370211234\n",
      "generation: 8 average cost: 1.4552693759507995\n",
      "generation: 9 average cost: 1.4399647488409757\n",
      "generation: 10 average cost: 1.706871356003285\n",
      "generation: 11 average cost: 1.4963097149290865\n",
      "generation: 12 average cost: 1.6630323265595406\n",
      "generation: 13 average cost: 1.895037916602754\n",
      "generation: 14 average cost: 1.8552702461909454\n",
      "generation: 15 average cost: 1.64725854370629\n",
      "generation: 16 average cost: 1.5076010339426715\n",
      "generation: 17 average cost: 1.5962330878597604\n",
      "generation: 18 average cost: 1.920436576908068\n",
      "generation: 19 average cost: 1.6582054400198925\n",
      "final average cost: 1.9635996472117434\n",
      "final lowest cost: 0.00909222792009956\n",
      "best individual [271.9557459   20.89032219  13.02735702]\n",
      "feature1/feature2: 13.01826479205483 feature3: 13.027357019974929\n"
     ]
    }
   ],
   "source": [
    "population_size = 100  # 100 individuals per population\n",
    "amount_of_features = 3\n",
    "amount_of_generations = 20\n",
    "amount_of_best_to_select = 10\n",
    "\n",
    "max_mutation_percentage = 20\n",
    "max_mutation = 1 + (max_mutation_percentage / 100)\n",
    "min_mutation = 1 - (max_mutation_percentage / 100)\n",
    "mutation_chance = 0.5  # 50%\n",
    "\n",
    "# set minimum and maximum values\n",
    "minimum_values = np.zeros([population_size, amount_of_features])  # leave as zeros\n",
    "maximum_values = np.zeros([population_size, amount_of_features])\n",
    "maximum_values[:, 0] = 1000  # feature1 has to be between 0 and 1000\n",
    "maximum_values[:, 1] = 100  # feature2 has to be between 0 and 100\n",
    "maximum_values[:, 2] = 100  # feature3 has to be between 0 and 100\n",
    "\n",
    "# generate population with random values between minimum and maximum values\n",
    "population = np.random.rand(population_size, amount_of_features)\n",
    "population = population * (maximum_values - minimum_values) + minimum_values\n",
    "\n",
    "# now we train it\n",
    "for i in range(amount_of_generations):\n",
    "    cost = calculate_cost(population)\n",
    "    population = make_new_generation(amount_of_best_to_select, population, cost)\n",
    "    mutate(population, mutation_chance, max_mutation, min_mutation)\n",
    "    \n",
    "    print('generation:', i, 'average cost:', np.mean(cost))\n",
    "\n",
    "# finally, we extract the best result\n",
    "cost = calculate_cost(population)\n",
    "print('final average cost:', np.mean(cost))\n",
    "print('final lowest cost:', np.min(cost))\n",
    "\n",
    "population = population[cost.argsort()]\n",
    "best_one = population[0]\n",
    "print('best individual', best_one)\n",
    "print('feature1/feature2:', best_one[0] / best_one[1], 'feature3:', best_one[2])\n",
    "    "
   ]
  },
  {
   "cell_type": "markdown",
   "metadata": {},
   "source": [
    "The difference between feature1/feature2 and feature3 should be pretty small now. This was a very simple problem, but the same method can be applied to actual simulations and video games."
   ]
  }
 ],
 "metadata": {
  "kernelspec": {
   "display_name": "Python 3",
   "language": "python",
   "name": "python3"
  },
  "language_info": {
   "codemirror_mode": {
    "name": "ipython",
    "version": 3
   },
   "file_extension": ".py",
   "mimetype": "text/x-python",
   "name": "python",
   "nbconvert_exporter": "python",
   "pygments_lexer": "ipython3",
   "version": "3.7.3"
  }
 },
 "nbformat": 4,
 "nbformat_minor": 2
}
